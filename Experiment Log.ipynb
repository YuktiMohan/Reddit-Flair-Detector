{
 "cells": [
  {
   "cell_type": "markdown",
   "metadata": {},
   "source": [
    "## Part 1: Reddit Data Collection\n",
    "Since I had not worked with wescrapping before, therefore I started exploring more about webscrapping and how it is done. I read a few blogs which I have listed below (1-2). Among these, I implemented [Scapring Reddit Data](https://towardsdatascience.com/scraping-reddit-data-1c0af3040768) to get an idea about how webscraping works on Reddit. \n",
    "\n",
    "\n",
    "Sources:\n",
    "1. [How to extract online data using Python](https://towardsdatascience.com/how-to-extract-online-data-using-python-8d072f522d86)\n",
    "2. [Scapring Reddit Data](https://towardsdatascience.com/scraping-reddit-data-1c0af3040768)"
   ]
  },
  {
   "cell_type": "code",
   "execution_count": null,
   "metadata": {},
   "outputs": [],
   "source": []
  }
 ],
 "metadata": {
  "kernelspec": {
   "display_name": "Python 3",
   "language": "python",
   "name": "python3"
  },
  "language_info": {
   "codemirror_mode": {
    "name": "ipython",
    "version": 3
   },
   "file_extension": ".py",
   "mimetype": "text/x-python",
   "name": "python",
   "nbconvert_exporter": "python",
   "pygments_lexer": "ipython3",
   "version": "3.8.2"
  }
 },
 "nbformat": 4,
 "nbformat_minor": 4
}
